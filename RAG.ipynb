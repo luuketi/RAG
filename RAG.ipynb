{
 "cells": [
  {
   "cell_type": "markdown",
   "metadata": {
    "id": "hUCaGdAj9-9F"
   },
   "source": [
    "# RAG on blog post\n",
    "##### https://aeon.co/essays/how-did-america-become-the-nation-of-credit-cards"
   ]
  },
  {
   "cell_type": "code",
   "metadata": {
    "id": "NSX0p0rV9-9I",
    "trusted": false,
    "ExecuteTime": {
     "end_time": "2024-09-05T13:06:42.608258Z",
     "start_time": "2024-09-05T13:06:35.704383Z"
    }
   },
   "source": [
    "%%capture\n",
    "!pip install -q -U torch transformers accelerate bitsandbytes langchain langchain-community langchain-huggingface sentence-transformers faiss-gpu openpyxl pacmap datasets  ragatouille"
   ],
   "outputs": [],
   "execution_count": 16
  },
  {
   "cell_type": "code",
   "metadata": {
    "id": "eoujYMwW9-9J",
    "trusted": false,
    "ExecuteTime": {
     "end_time": "2024-09-05T13:06:42.954186Z",
     "start_time": "2024-09-05T13:06:42.948701Z"
    }
   },
   "source": [
    "import datasets\n",
    "from IPython.display import Markdown, display\n",
    "from langchain.docstore.document import Document as LangchainDocument\n",
    "from langchain.text_splitter import RecursiveCharacterTextSplitter\n",
    "from langchain.vectorstores import FAISS\n",
    "from langchain_community.vectorstores.utils import DistanceStrategy\n",
    "from langchain_huggingface import HuggingFaceEmbeddings\n",
    "from ragatouille import RAGPretrainedModel\n",
    "import torch\n",
    "from tqdm.notebook import tqdm\n",
    "from transformers import AutoTokenizer, AutoModelForCausalLM, BitsAndBytesConfig, pipeline, Pipeline\n",
    "from typing import Optional, List, Tuple"
   ],
   "outputs": [],
   "execution_count": 17
  },
  {
   "metadata": {
    "trusted": false,
    "ExecuteTime": {
     "end_time": "2024-09-05T13:06:43.286403Z",
     "start_time": "2024-09-05T13:06:43.282905Z"
    }
   },
   "cell_type": "code",
   "source": "EMBEDDING_MODEL_NAME = \"thenlper/gte-large\"\nREADER_MODEL_NAME = \"HuggingFaceH4/zephyr-7b-beta\"\nRERANKER_NAME = \"colbert-ir/colbertv2.0\"",
   "outputs": [],
   "execution_count": 18
  },
  {
   "metadata": {},
   "cell_type": "markdown",
   "source": [
    "### Load the knowledge base\n",
    "##### Manually extracted from website"
   ]
  },
  {
   "metadata": {
    "trusted": false,
    "ExecuteTime": {
     "end_time": "2024-09-05T13:06:43.740638Z",
     "start_time": "2024-09-05T13:06:43.624507Z"
    }
   },
   "cell_type": "code",
   "source": "ds = datasets.load_dataset(\"csv\", data_files=\"data/blog-post.txt\", split=\"train\")",
   "outputs": [],
   "execution_count": 19
  },
  {
   "metadata": {},
   "cell_type": "markdown",
   "source": "### Create the embedding model"
  },
  {
   "metadata": {
    "trusted": false,
    "ExecuteTime": {
     "end_time": "2024-09-05T13:06:51.833115Z",
     "start_time": "2024-09-05T13:06:44.155455Z"
    }
   },
   "cell_type": "code",
   "source": "def split_documents(chunk_size: int, knowledge_base: List[LangchainDocument], tokenizer_name: Optional[str] = EMBEDDING_MODEL_NAME) -> List[LangchainDocument]:\n    text_splitter = RecursiveCharacterTextSplitter.from_huggingface_tokenizer(\n        AutoTokenizer.from_pretrained(tokenizer_name),\n        chunk_size=chunk_size,\n        chunk_overlap=int(chunk_size / 10),\n        add_start_index=True,\n        strip_whitespace=True,\n    )\n    docs = (d for doc in knowledge_base for d in text_splitter.split_documents([doc]))\n    unique_contents = {doc.page_content: doc for doc in docs}\n    return list(unique_contents.values())\n\nRAW_KNOWLEDGE_BASE = [ LangchainDocument(page_content=doc[\"text\"]) for doc in tqdm(ds) ]\ndocs_processed = split_documents(512, RAW_KNOWLEDGE_BASE, tokenizer_name=EMBEDDING_MODEL_NAME)\n\nembedding_model = HuggingFaceEmbeddings(\n    model_name=EMBEDDING_MODEL_NAME,\n    multi_process=True,\n    model_kwargs={\"device\": \"cuda\"},\n    encode_kwargs={\"normalize_embeddings\": True},  # `True` for cosine similarity\n)\n\nKNOWLEDGE_VECTOR_DATABASE = FAISS.from_documents(docs_processed, embedding_model, distance_strategy=DistanceStrategy.COSINE)",
   "outputs": [
    {
     "data": {
      "text/plain": [
       "  0%|          | 0/63 [00:00<?, ?it/s]"
      ],
      "application/vnd.jupyter.widget-view+json": {
       "version_major": 2,
       "version_minor": 0,
       "model_id": "fddb7bc534b2417aababb740ff462aa8"
      }
     },
     "metadata": {},
     "output_type": "display_data"
    }
   ],
   "execution_count": 20
  },
  {
   "metadata": {},
   "cell_type": "markdown",
   "source": "### Create the pipeline"
  },
  {
   "metadata": {
    "id": "Abn4gw5A9-9O",
    "outputId": "a44b8fcb-10bf-4893-82f5-d34afc096bc1",
    "trusted": false,
    "ExecuteTime": {
     "end_time": "2024-09-05T13:07:02.132701Z",
     "start_time": "2024-09-05T13:06:52.036499Z"
    }
   },
   "cell_type": "code",
   "source": "bnb_config = BitsAndBytesConfig(load_in_4bit=True, bnb_4bit_use_double_quant=True, bnb_4bit_quant_type=\"nf4\", bnb_4bit_compute_dtype=torch.bfloat16)\nmodel = AutoModelForCausalLM.from_pretrained(READER_MODEL_NAME, quantization_config=bnb_config)\ntokenizer = AutoTokenizer.from_pretrained(READER_MODEL_NAME)\nREADER_LLM = pipeline(model=model, tokenizer=tokenizer, task=\"text-generation\", do_sample=True, temperature=0.2, repetition_penalty=1.1, return_full_text=False, max_new_tokens=500)",
   "outputs": [
    {
     "name": "stderr",
     "output_type": "stream",
     "text": [
      "`low_cpu_mem_usage` was None, now set to True since model is quantized.\n"
     ]
    },
    {
     "data": {
      "text/plain": [
       "Loading checkpoint shards:   0%|          | 0/8 [00:00<?, ?it/s]"
      ],
      "application/vnd.jupyter.widget-view+json": {
       "version_major": 2,
       "version_minor": 0,
       "model_id": "0313786d078047a59fe825c45bc7b4da"
      }
     },
     "metadata": {},
     "output_type": "display_data"
    }
   ],
   "execution_count": 21
  },
  {
   "cell_type": "code",
   "metadata": {
    "trusted": false,
    "ExecuteTime": {
     "end_time": "2024-09-05T13:07:03.106389Z",
     "start_time": "2024-09-05T13:07:02.305940Z"
    }
   },
   "source": "prompt_in_chat_format = [\n    {\n        \"role\": \"system\",\n        \"content\": \"\"\"Using the information contained in the context,\ngive a comprehensive answer to the question.\nRespond only to the question asked, response should be concise and relevant to the question.\nProvide the number of the source document when relevant.\nIf the answer cannot be deduced from the context, do not give an answer.\"\"\",\n    },\n    {\n        \"role\": \"user\",\n        \"content\": \"\"\"Context:\n{context}\n---\nNow here is the question you need to answer.\n\nQuestion: {question}\"\"\",\n    },\n]\nRAG_PROMPT_TEMPLATE = tokenizer.apply_chat_template(prompt_in_chat_format, tokenize=False, add_generation_prompt=True)\nRERANKER = RAGPretrainedModel.from_pretrained(RERANKER_NAME)",
   "outputs": [],
   "execution_count": 22
  },
  {
   "metadata": {
    "id": "n11zYRfn9-9O",
    "trusted": false,
    "ExecuteTime": {
     "end_time": "2024-09-05T13:07:03.310594Z",
     "start_time": "2024-09-05T13:07:03.303388Z"
    }
   },
   "cell_type": "code",
   "source": [
    "def answer_with_rag(\n",
    "    question: str,\n",
    "    llm: Pipeline,\n",
    "    knowledge_index: FAISS,\n",
    "    reranker: Optional[RAGPretrainedModel] = None,\n",
    "    num_retrieved_docs: int = 30,\n",
    "    num_docs_final: int = 5,\n",
    ") -> Tuple[str, List[LangchainDocument]]:\n",
    "    relevant_docs = knowledge_index.similarity_search(query=question, k=num_retrieved_docs)\n",
    "    relevant_docs = [doc.page_content for doc in relevant_docs]  # Keep only the text\n",
    "\n",
    "    if reranker:\n",
    "        relevant_docs = reranker.rerank(question, relevant_docs, k=num_docs_final)\n",
    "        relevant_docs = [doc[\"content\"] for doc in relevant_docs]\n",
    "\n",
    "    relevant_docs = relevant_docs[:num_docs_final]\n",
    "\n",
    "    context = \"\\nExtracted documents:\\n\"\n",
    "    context += \"\".join([f\"Document {str(i)}:::\\n\" + doc for i, doc in enumerate(relevant_docs)])\n",
    "\n",
    "    final_prompt = RAG_PROMPT_TEMPLATE.format(question=question, context=context)\n",
    "    answer = llm(final_prompt)[0][\"generated_text\"]\n",
    "    \n",
    "    return answer, relevant_docs\n",
    "\n",
    "def answer(question):\n",
    "    a, relevant_docs = answer_with_rag(question, READER_LLM, KNOWLEDGE_VECTOR_DATABASE, reranker=RERANKER)\n",
    "    print(\"QUESTION:\")\n",
    "    display(Markdown(\"**\" + question + \"**\" ))\n",
    "    print(\"ANSWER:\")\n",
    "    display(Markdown(\"**\" + a + \"**\" ))\n",
    "    print(\"_\" * 50)\n",
    "    print(\"Source docs:\")\n",
    "    for i, doc in enumerate(relevant_docs):\n",
    "        print(f\"\\tDocument {i}:\")\n",
    "        print(\"\\t\\t\" + doc)"
   ],
   "outputs": [],
   "execution_count": 23
  },
  {
   "metadata": {},
   "cell_type": "markdown",
   "source": "### Asking questions!"
  },
  {
   "cell_type": "code",
   "metadata": {
    "id": "SwW0oqhZ9-9P",
    "outputId": "361f28ed-9cd5-40b8-f8c4-57e8e4a530d9",
    "trusted": false,
    "ExecuteTime": {
     "end_time": "2024-09-05T13:07:14.888110Z",
     "start_time": "2024-09-05T13:07:03.635622Z"
    }
   },
   "source": "answer(\"Which businesses made credit cards central to their postwar plans?\")",
   "outputs": [
    {
     "name": "stderr",
     "output_type": "stream",
     "text": [
      "100%|█████████████████████████████████████████████████████████████████████████| 1/1 [00:00<00:00, 41.71it/s]\n"
     ]
    },
    {
     "name": "stdout",
     "output_type": "stream",
     "text": [
      "QUESTION:\n"
     ]
    },
    {
     "data": {
      "text/plain": [
       "<IPython.core.display.Markdown object>"
      ],
      "text/markdown": "**Which businesses made credit cards central to their postwar plans?**"
     },
     "metadata": {},
     "output_type": "display_data"
    },
    {
     "name": "stdout",
     "output_type": "stream",
     "text": [
      "ANSWER:\n"
     ]
    },
    {
     "data": {
      "text/plain": [
       "<IPython.core.display.Markdown object>"
      ],
      "text/markdown": "**Gasoline companies, railroads, department stores, and the Diners Club (introduced by Frank McNamara) made credit cards central to their postwar plans, as described in Documents 0, 1, 2, and 4, respectively. Other sources in the context may provide additional examples, but these are the ones specifically mentioned.**"
     },
     "metadata": {},
     "output_type": "display_data"
    },
    {
     "name": "stdout",
     "output_type": "stream",
     "text": [
      "__________________________________________________\n",
      "Source docs:\n",
      "\tDocument 0:\n",
      "\t\tOther businesses also made credit cards central to their postwar plans. Gasoline companies, like Standard Oil of New Jersey, had developed nationwide charge account networks linking service stations in the years before the war. Wartime rationing halted credit sales. But in the late 1940s, service stations heavily promoted gasoline credit cards. Railroads, too, rolled out unified, card-based credit plans.\n",
      "\tDocument 1:\n",
      "\t\tThe postwar growth of department store chains provided an opportunity. Department stores offered credit cards. Small retailers did not. In the early 1950s, a cohort of bankers in cities and towns across the country began experimenting with local card plans that linked small retailers into local credit networks. Although the plans were modest, bankers saw opportunity. Banks ‘should be the reservoirs for every type of credit in their communities,’ a Virginia banker observed in 1953, predicting that ‘banks may be handling the bulk, maybe all, charge account financing’ in the near future.\n",
      "\tDocument 2:\n",
      "\t\tFederal policymakers restrained consumer spending during wartime on the explicit promise that the postwar years would bring unprecedented abundance. Department stores were apostles of this future, and they entered the postwar era with a new credit product to draw in customers. Credit cards were a key feature of department store expansion in the 1940s and ’50s, out of city centres and into the growing suburbs.\n",
      "\tDocument 3:\n",
      "\t\tBy the early 1960s, department store and travel cards were well rooted in American wallets, but it was not yet clear that bank cards would succeed. Chase Manhattan, the nation’s second-largest bank, abandoned its credit card experiment after less than four years of trying in 1962. But other banks in the US were also struggling. Strict regulations ensured that, although banks were safe – very few banks failed in the postwar years – they were not very profitable. By the late 1960s, bankers increasingly saw credit cards, which combined innovative information technology with access to affluent consumer markets, as\n",
      "\tDocument 4:\n",
      "\t\tThese travel cards set the stage for ‘universal’ travel-and-entertainment cards. Department store cards, offered by firms like Macy’s or Gimbels, were store specific. Gasoline and rail cards linked independent businesses within the travel industry under a unified credit plan. The watershed came in 1950, when Frank McNamara introduced the Diners Club card to executives in New York City. The name was self-explanatory. The card allowed executives to wine and dine clients at restaurants and clubs, first in New York and soon around the country. The plan quickly expanded to include the full suite of travel and entertainment\n"
     ]
    }
   ],
   "execution_count": 24
  },
  {
   "metadata": {
    "trusted": false,
    "ExecuteTime": {
     "end_time": "2024-09-05T13:07:33.036099Z",
     "start_time": "2024-09-05T13:07:15.281243Z"
    }
   },
   "cell_type": "code",
   "source": "answer(\"Why did bankers move into the credit card market?\")",
   "outputs": [
    {
     "name": "stderr",
     "output_type": "stream",
     "text": [
      "100%|█████████████████████████████████████████████████████████████████████████| 1/1 [00:00<00:00, 42.69it/s]\n"
     ]
    },
    {
     "name": "stdout",
     "output_type": "stream",
     "text": [
      "QUESTION:\n"
     ]
    },
    {
     "data": {
      "text/plain": [
       "<IPython.core.display.Markdown object>"
      ],
      "text/markdown": "**Why did bankers move into the credit card market?**"
     },
     "metadata": {},
     "output_type": "display_data"
    },
    {
     "name": "stdout",
     "output_type": "stream",
     "text": [
      "ANSWER:\n"
     ]
    },
    {
     "data": {
      "text/plain": [
       "<IPython.core.display.Markdown object>"
      ],
      "text/markdown": "**Bankers moved into the credit card market in the late 1960s as a way to escape the tight regulations that constrained their industry during the New Deal era. Credit cards provided a way for them to innovate around these restrictions and build consumer lending markets from scratch, particularly in affluent, white suburbs where traditional banking services were becoming less accessible due to demographic changes. However, the initial enthusiasm for credit cards as a source of profits turned into disappointment as cards became another source of low-margin lending due to a consumer backlash and legislation that followed. Despite this setback, bankers continued to pursue credit cards as a means of recruiting new customers and expanding their businesses beyond traditional geographic territories.**"
     },
     "metadata": {},
     "output_type": "display_data"
    },
    {
     "name": "stdout",
     "output_type": "stream",
     "text": [
      "__________________________________________________\n",
      "Source docs:\n",
      "\tDocument 0:\n",
      "\t\tBankers leapt into the credit card market in the late 1960s to escape the tight regulations that constrained their industry. The consumer backlash and the wave of legislation that followed fundamentally constrained credit card plans. Instead of a source of profits, cards became another source of low-margin lending. What had once seemed like the road to the future appeared as just another dead end.\n",
      "\tDocument 1:\n",
      "\t\tThe cascade of unsolicited credit drew the attention of consumer groups, labour unions and policymakers at all levels of government. Bankers pursued cards to innovate around New Deal regulatory restrictions and to build consumer lending markets from scratch. Many did so to expand beyond downtowns that were becoming Blacker and poorer, and to reach affluent, white suburbs. In doing so, bankers inadvertently sparked a political backlash that would drastically hem in their ambitions.\n",
      "\tDocument 2:\n",
      "\t\tThe political emphasis on credit cards as a consumer protection issue missed their importance as a bank regulatory problem. After the Great Depression, US Congress tried to keep banks small and geographic restrictions were a cornerstone of this policy. Bankers built card networks to overcome these restrictions, but in the 1960s they still thought of cards as local products. Banks signed up merchants and consumers in their geographic territories. Because cards did not generate large profits on their own, bankers expected cards to create relationships with merchants and consumers who would then use other banking services. Consumers could use their\n",
      "\tDocument 3:\n",
      "\t\tBanks careened into the credit card market to recruit new customers, meaning that, while many used their existing accountholder lists as the starting point for mass solicitation campaigns, banks invariably bought catalogues of potential cardholders from credit bureaus, mass mailing firms and other sources. David M Kennedy, chairman of Continental Illinois Bank in Chicago in the 1960s, explained that his bank mailed cards to ‘customers and shareholders and a few others in whom there was reason to place confidence [emphasis added].’ His vagueness was suggestive. Later investigations revealed that, in their haste to get cards into consumer\n",
      "\tDocument 4:\n",
      "\t\tBank of America’s executives recognised a fundamental challenge that confronted all universal credit-card plans: the bank needed to recruit enough merchant and consumer participants to make the card plan worthwhile to each group. Bankers had initially solved this problem by signing up merchants first, and then relying on merchants to solicit cardholders among their existing customers. Bank of America started from the other end. The bank had a large customer base. If it recruited cardholders first, executives reasoned, card-carrying consumers would draw merchants into the plan.\n"
     ]
    }
   ],
   "execution_count": 25
  },
  {
   "metadata": {
    "trusted": false,
    "ExecuteTime": {
     "end_time": "2024-09-05T13:07:49.018427Z",
     "start_time": "2024-09-05T13:07:33.275417Z"
    }
   },
   "cell_type": "code",
   "source": "answer(\"What did Frank McNamara introduced and what was it used for?\")",
   "outputs": [
    {
     "name": "stderr",
     "output_type": "stream",
     "text": [
      "100%|█████████████████████████████████████████████████████████████████████████| 1/1 [00:00<00:00, 44.32it/s]\n"
     ]
    },
    {
     "name": "stdout",
     "output_type": "stream",
     "text": [
      "QUESTION:\n"
     ]
    },
    {
     "data": {
      "text/plain": [
       "<IPython.core.display.Markdown object>"
      ],
      "text/markdown": "**What did Frank McNamara introduced and what was it used for?**"
     },
     "metadata": {},
     "output_type": "display_data"
    },
    {
     "name": "stdout",
     "output_type": "stream",
     "text": [
      "ANSWER:\n"
     ]
    },
    {
     "data": {
      "text/plain": [
       "<IPython.core.display.Markdown object>"
      ],
      "text/markdown": "**Frank McNamara introduced the Diners Club card in 1950, which allowed executives to pay for meals and entertainment at restaurants and clubs in New York City and later around the country. This credit card marked a watershed moment in the development of universal travel-and-entertainment cards, as it went beyond store-specific department store cards and gasoline and rail cards that linked independent businesses within the travel industry under a unified credit plan. The Diners Club card paved the way for the expansion of credit cards into the full suite of travel and entertainment expenses. (Source: Document 0)**"
     },
     "metadata": {},
     "output_type": "display_data"
    },
    {
     "name": "stdout",
     "output_type": "stream",
     "text": [
      "__________________________________________________\n",
      "Source docs:\n",
      "\tDocument 0:\n",
      "\t\tThese travel cards set the stage for ‘universal’ travel-and-entertainment cards. Department store cards, offered by firms like Macy’s or Gimbels, were store specific. Gasoline and rail cards linked independent businesses within the travel industry under a unified credit plan. The watershed came in 1950, when Frank McNamara introduced the Diners Club card to executives in New York City. The name was self-explanatory. The card allowed executives to wine and dine clients at restaurants and clubs, first in New York and soon around the country. The plan quickly expanded to include the full suite of travel and entertainment\n",
      "\tDocument 1:\n",
      "\t\tThose national priorities changed course when the nation shifted from recovery to warmaking during the Second World War. Policymakers wanted consumers to save, not spend, a policy the US Federal Reserve pursued through firm controls on consumer credit. Government controls encouraged credit innovation, first to circumvent the rules, then to comply with them.\n",
      "\tDocument 2:\n",
      "\t\tFederal policymakers restrained consumer spending during wartime on the explicit promise that the postwar years would bring unprecedented abundance. Department stores were apostles of this future, and they entered the postwar era with a new credit product to draw in customers. Credit cards were a key feature of department store expansion in the 1940s and ’50s, out of city centres and into the growing suburbs.\n",
      "\tDocument 3:\n",
      "\t\tBanks careened into the credit card market to recruit new customers, meaning that, while many used their existing accountholder lists as the starting point for mass solicitation campaigns, banks invariably bought catalogues of potential cardholders from credit bureaus, mass mailing firms and other sources. David M Kennedy, chairman of Continental Illinois Bank in Chicago in the 1960s, explained that his bank mailed cards to ‘customers and shareholders and a few others in whom there was reason to place confidence [emphasis added].’ His vagueness was suggestive. Later investigations revealed that, in their haste to get cards into consumer\n",
      "\tDocument 4:\n",
      "\t\tThe postwar growth of department store chains provided an opportunity. Department stores offered credit cards. Small retailers did not. In the early 1950s, a cohort of bankers in cities and towns across the country began experimenting with local card plans that linked small retailers into local credit networks. Although the plans were modest, bankers saw opportunity. Banks ‘should be the reservoirs for every type of credit in their communities,’ a Virginia banker observed in 1953, predicting that ‘banks may be handling the bulk, maybe all, charge account financing’ in the near future.\n"
     ]
    }
   ],
   "execution_count": 26
  }
 ],
 "metadata": {
  "colab": {
   "provenance": []
  },
  "kernelspec": {
   "display_name": "ml2",
   "language": "python",
   "name": "python3"
  },
  "language_info": {
   "codemirror_mode": {
    "name": "ipython",
    "version": 3
   },
   "file_extension": ".py",
   "mimetype": "text/x-python",
   "name": "python",
   "nbconvert_exporter": "python",
   "pygments_lexer": "ipython3",
   "version": "3.10.9"
  }
 },
 "nbformat": 4,
 "nbformat_minor": 0
}
